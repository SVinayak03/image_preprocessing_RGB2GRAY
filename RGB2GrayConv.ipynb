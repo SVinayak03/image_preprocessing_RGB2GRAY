{
  "nbformat": 4,
  "nbformat_minor": 0,
  "metadata": {
    "colab": {
      "provenance": [],
      "authorship_tag": "ABX9TyOgSTpJ7ccgULywAKqHiWAd",
      "include_colab_link": true
    },
    "kernelspec": {
      "name": "python3",
      "display_name": "Python 3"
    },
    "language_info": {
      "name": "python"
    }
  },
  "cells": [
    {
      "cell_type": "markdown",
      "metadata": {
        "id": "view-in-github",
        "colab_type": "text"
      },
      "source": [
        "<a href=\"https://colab.research.google.com/github/vinayakbs311/image_preprocessing_RGB2GRAY/blob/main/RGB2GrayConv.ipynb\" target=\"_parent\"><img src=\"https://colab.research.google.com/assets/colab-badge.svg\" alt=\"Open In Colab\"/></a>"
      ]
    },
    {
      "cell_type": "code",
      "source": [
        "from google.colab import drive\n",
        "drive.mount('/content/drive')"
      ],
      "metadata": {
        "colab": {
          "base_uri": "https://localhost:8080/"
        },
        "id": "UaqnUWeli3E2",
        "outputId": "76ecc8e2-76e2-419c-dd61-d8895662eebe"
      },
      "execution_count": null,
      "outputs": [
        {
          "output_type": "stream",
          "name": "stdout",
          "text": [
            "Mounted at /content/drive\n"
          ]
        }
      ]
    },
    {
      "cell_type": "code",
      "source": [
        "#Grayscale conversion for Fliped images"
      ],
      "metadata": {
        "id": "cOd9UV07oBY0"
      },
      "execution_count": null,
      "outputs": []
    },
    {
      "cell_type": "code",
      "source": [
        "import os,cv2\n",
        "#path = r'/content/drive/MyDrive/Graytest' # Source Folder\n",
        "path = r'/content/drive/MyDrive/Flip_640x480' #Source Folder1\n",
        "#path2 = r'/content/drive/MyDrive/Nonflip_640x480' #Source Folder2\n",
        "\n",
        "#dstpath = r'/content/drive/MyDrive/GraytestResult' # Destination Folder\n",
        "dstpath = r'/content/drive/MyDrive/Flip_640x480_gray' #Destination Folder1\n",
        "#dstpath2 = r'/content/drive/MyDrive/Nonflip_640x480_gary' #Destination Folder2"
      ],
      "metadata": {
        "id": "r-ucRzfDi6iI"
      },
      "execution_count": null,
      "outputs": []
    },
    {
      "cell_type": "code",
      "source": [
        "try:\n",
        "    makedirs(dstpath)\n",
        "except:\n",
        "    print (\"Directory already exist, images will be written in asme folder\")"
      ],
      "metadata": {
        "colab": {
          "base_uri": "https://localhost:8080/"
        },
        "id": "ZBd--fSVjOJe",
        "outputId": "1bed9e72-c2be-4735-ea50-410acdb206b7"
      },
      "execution_count": null,
      "outputs": [
        {
          "output_type": "stream",
          "name": "stdout",
          "text": [
            "Directory already exist, images will be written in asme folder\n"
          ]
        }
      ]
    },
    {
      "cell_type": "code",
      "source": [
        "# Folder won't used\n",
        "files = os.listdir(path)\n"
      ],
      "metadata": {
        "id": "J4PZlUtSjTcB"
      },
      "execution_count": null,
      "outputs": []
    },
    {
      "cell_type": "code",
      "source": [
        "for image in files:\n",
        "    img = cv2.imread(os.path.join(path,image))\n",
        "    gray = cv2.cvtColor(img,cv2.COLOR_BGR2GRAY)\n",
        "    cv2.imwrite(os.path.join(dstpath,image),gray)"
      ],
      "metadata": {
        "id": "CQywGmifjYxg"
      },
      "execution_count": null,
      "outputs": []
    },
    {
      "cell_type": "code",
      "source": [
        "#Grayscale conversion for NonFliped images"
      ],
      "metadata": {
        "id": "rzHhCCKYoNaa"
      },
      "execution_count": null,
      "outputs": []
    },
    {
      "cell_type": "code",
      "source": [
        "import os,cv2\n",
        "#path = r'/content/drive/MyDrive/Graytest' # Source Folder\n",
        "#path = r'/content/drive/MyDrive/Flip_640x480' #Source Folder1\n",
        "path = r'/content/drive/MyDrive/Nonflip_640x480' #Source Folder2\n",
        "\n",
        "#dstpath = r'/content/drive/MyDrive/GraytestResult' # Destination Folder\n",
        "#dstpath = r'/content/drive/MyDrive/Flip_640x480_gray' #Destination Folder1\n",
        "dstpath = r'/content/drive/MyDrive/Nonflip_640x480_gary' #Destination Folder2"
      ],
      "metadata": {
        "id": "-X3fl-pboTA6"
      },
      "execution_count": null,
      "outputs": []
    },
    {
      "cell_type": "code",
      "source": [
        "try:\n",
        "    makedirs(dstpath)\n",
        "except:\n",
        "    print (\"Directory already exist, images will be written in asme folder\")"
      ],
      "metadata": {
        "colab": {
          "base_uri": "https://localhost:8080/"
        },
        "id": "ISqcQA4GoZLI",
        "outputId": "0b5c06f6-fd1d-409a-84f3-f3e201c5d8fd"
      },
      "execution_count": null,
      "outputs": [
        {
          "output_type": "stream",
          "name": "stdout",
          "text": [
            "Directory already exist, images will be written in asme folder\n"
          ]
        }
      ]
    },
    {
      "cell_type": "code",
      "source": [
        "# Folder won't used\n",
        "files = os.listdir(path)"
      ],
      "metadata": {
        "id": "hgLRY80Lobox"
      },
      "execution_count": null,
      "outputs": []
    },
    {
      "cell_type": "code",
      "source": [
        "for image in files:\n",
        "    img = cv2.imread(os.path.join(path,image))\n",
        "    gray = cv2.cvtColor(img,cv2.COLOR_BGR2GRAY)\n",
        "    cv2.imwrite(os.path.join(dstpath,image),gray)"
      ],
      "metadata": {
        "id": "xLEWvNtKoda5"
      },
      "execution_count": null,
      "outputs": []
    }
  ]
}